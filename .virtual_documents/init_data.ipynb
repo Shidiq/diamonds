import dvc.api
import pandas as pd


path = "data/diamonds.csv"
repo = "https://github.com/Shidiq/diamonds.git"
# version = "v1"

data_url = dvc.api.get_url(path=path, repo=repo)
data_url


get_ipython().getoutput("cat .dvc/config")



