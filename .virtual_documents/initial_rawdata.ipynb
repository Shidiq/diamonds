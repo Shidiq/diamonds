get_ipython().getoutput("pwd")



