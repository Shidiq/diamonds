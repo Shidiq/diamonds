import dvc.api
import pandas as pd


path = "data/diamonds.csv"
repo = "/Users/shidiq/Developer/Portofolio/diamonds"
version = "v1"

data_url = dvc.api.get_url(path=path, repo=repo, rev=version)
data_url


data = pd.read_csv(data_url)
data.head()



