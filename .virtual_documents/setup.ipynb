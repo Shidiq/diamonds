get_ipython().getoutput("git init")


get_ipython().getoutput("dvc init")


get_ipython().getoutput("git add .")


get_ipython().getoutput("git commit -m "initialize repo"")


get_ipython().getoutput("git branch -M main")


get_ipython().getoutput("git remote add origin https://github.com/Shidiq/diamonds.git")


get_ipython().getoutput("git push -u origin main")


get_ipython().getoutput("dvc remote add -d dvc-remote "/Volumes/99% Virus/dvc_temp"")


get_ipython().getoutput("git add .")


get_ipython().getoutput("git commit -m "configure remote storage"")
get_ipython().getoutput("git status")


get_ipython().getoutput("git push origin main")
get_ipython().getoutput("git log")


get_ipython().getoutput("dvc add data/diamonds.csv")


get_ipython().getoutput("git add data/.gitignore data/diamonds.csv.dvc")


get_ipython().getoutput("git commit -m 'data: track'")
get_ipython().getoutput("git tag -a 'v1' -m 'raw data'")
get_ipython().getoutput("git status")


get_ipython().getoutput("dvc push")
get_ipython().getoutput("rm -rf data/diamonds.csv")
get_ipython().getoutput("rm -rf .dvc/cache")



