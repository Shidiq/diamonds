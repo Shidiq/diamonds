get_ipython().getoutput("git init")


get_ipython().getoutput("dvc init")


get_ipython().getoutput("git add .")


get_ipython().getoutput("git commit -m "initialize repo"")


get_ipython().getoutput("git branch -M main")


get_ipython().getoutput("git remote add origin https://github.com/Shidiq/diamonds.git")


get_ipython().getoutput("git push -u origin main")


get_ipython().getoutput("dvc remote add -d dvc-remote "/Volumes/99% Virus/dvc_temp"")


get_ipython().getoutput("git add .")



