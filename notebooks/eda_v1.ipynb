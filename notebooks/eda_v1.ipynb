{
 "cells": [
  {
   "cell_type": "markdown",
   "id": "46dc9a67-b0d3-4832-9c32-0c0f96595ae0",
   "metadata": {},
   "source": [
    "# Exploratory Data Analysis(EDA): V1"
   ]
  },
  {
   "cell_type": "code",
   "execution_count": 25,
   "id": "eaf0da2c-4129-4ad5-a364-d51971f03906",
   "metadata": {
    "execution": {
     "iopub.execute_input": "2022-09-25T13:45:06.001251Z",
     "iopub.status.busy": "2022-09-25T13:45:06.000971Z",
     "iopub.status.idle": "2022-09-25T13:45:06.005662Z",
     "shell.execute_reply": "2022-09-25T13:45:06.004656Z",
     "shell.execute_reply.started": "2022-09-25T13:45:06.001175Z"
    },
    "tags": []
   },
   "outputs": [],
   "source": [
    "import sys\n",
    "\n",
    "import dvc.api\n",
    "import pandas as pd\n",
    "import seaborn as sns\n",
    "import matplotlib.pyplot as plt\n",
    "\n",
    "sys.path.insert(1, \"../src\")\n",
    "\n",
    "from libeda import EDA"
   ]
  },
  {
   "cell_type": "markdown",
   "id": "74d6dee9-ec5d-4f1a-97ef-ed3d1d6ef6a2",
   "metadata": {},
   "source": [
    "## Configure dvc temp file"
   ]
  },
  {
   "cell_type": "code",
   "execution_count": 2,
   "id": "536e0568-cfb7-4813-8cd3-d3b6ab5f1d71",
   "metadata": {
    "execution": {
     "iopub.execute_input": "2022-09-25T13:27:11.517260Z",
     "iopub.status.busy": "2022-09-25T13:27:11.515768Z",
     "iopub.status.idle": "2022-09-25T13:27:11.727873Z",
     "shell.execute_reply": "2022-09-25T13:27:11.727563Z",
     "shell.execute_reply.started": "2022-09-25T13:27:11.517195Z"
    },
    "tags": []
   },
   "outputs": [
    {
     "data": {
      "text/plain": [
       "'/Volumes/99% Virus/dvc_temp/bb/67f2679c70a62b35220f7e90a6174a'"
      ]
     },
     "execution_count": 2,
     "metadata": {},
     "output_type": "execute_result"
    }
   ],
   "source": [
    "path = \"data/diamonds.csv\"\n",
    "repo = \"/Users/shidiq/Developer/Portofolio/diamonds\"\n",
    "version = \"v1\"\n",
    "\n",
    "data_url = dvc.api.get_url(path=path, repo=repo, rev=version)\n",
    "data_url"
   ]
  },
  {
   "cell_type": "markdown",
   "id": "5e55b07d-9271-41ba-b770-d112b99e9afd",
   "metadata": {},
   "source": [
    "## Data information"
   ]
  },
  {
   "cell_type": "code",
   "execution_count": 3,
   "id": "eafa1c2a-b073-4931-b59f-d3145637730a",
   "metadata": {
    "execution": {
     "iopub.execute_input": "2022-09-25T13:27:12.791799Z",
     "iopub.status.busy": "2022-09-25T13:27:12.791245Z",
     "iopub.status.idle": "2022-09-25T13:27:13.186867Z",
     "shell.execute_reply": "2022-09-25T13:27:13.186442Z",
     "shell.execute_reply.started": "2022-09-25T13:27:12.791771Z"
    },
    "tags": []
   },
   "outputs": [],
   "source": [
    "data = pd.read_csv(data_url)"
   ]
  },
  {
   "cell_type": "markdown",
   "id": "453dc8a5-d983-4f22-aba6-1c18fb9dfb26",
   "metadata": {},
   "source": [
    "### Data head"
   ]
  },
  {
   "cell_type": "code",
   "execution_count": 4,
   "id": "7b0232ed-0ecd-4a7c-ad01-81804645a7bf",
   "metadata": {
    "execution": {
     "iopub.execute_input": "2022-09-25T13:27:14.043768Z",
     "iopub.status.busy": "2022-09-25T13:27:14.043391Z",
     "iopub.status.idle": "2022-09-25T13:27:14.072363Z",
     "shell.execute_reply": "2022-09-25T13:27:14.072006Z",
     "shell.execute_reply.started": "2022-09-25T13:27:14.043742Z"
    },
    "tags": []
   },
   "outputs": [
    {
     "data": {
      "text/html": [
       "<div>\n",
       "<style scoped>\n",
       "    .dataframe tbody tr th:only-of-type {\n",
       "        vertical-align: middle;\n",
       "    }\n",
       "\n",
       "    .dataframe tbody tr th {\n",
       "        vertical-align: top;\n",
       "    }\n",
       "\n",
       "    .dataframe thead th {\n",
       "        text-align: right;\n",
       "    }\n",
       "</style>\n",
       "<table border=\"1\" class=\"dataframe\">\n",
       "  <thead>\n",
       "    <tr style=\"text-align: right;\">\n",
       "      <th></th>\n",
       "      <th>Unnamed: 0</th>\n",
       "      <th>carat</th>\n",
       "      <th>cut</th>\n",
       "      <th>color</th>\n",
       "      <th>clarity</th>\n",
       "      <th>depth</th>\n",
       "      <th>table</th>\n",
       "      <th>price</th>\n",
       "      <th>x</th>\n",
       "      <th>y</th>\n",
       "      <th>z</th>\n",
       "    </tr>\n",
       "  </thead>\n",
       "  <tbody>\n",
       "    <tr>\n",
       "      <th>0</th>\n",
       "      <td>1</td>\n",
       "      <td>0.23</td>\n",
       "      <td>Ideal</td>\n",
       "      <td>E</td>\n",
       "      <td>SI2</td>\n",
       "      <td>61.5</td>\n",
       "      <td>55.0</td>\n",
       "      <td>326</td>\n",
       "      <td>3.95</td>\n",
       "      <td>3.98</td>\n",
       "      <td>2.43</td>\n",
       "    </tr>\n",
       "    <tr>\n",
       "      <th>1</th>\n",
       "      <td>2</td>\n",
       "      <td>0.21</td>\n",
       "      <td>Premium</td>\n",
       "      <td>E</td>\n",
       "      <td>SI1</td>\n",
       "      <td>59.8</td>\n",
       "      <td>61.0</td>\n",
       "      <td>326</td>\n",
       "      <td>3.89</td>\n",
       "      <td>3.84</td>\n",
       "      <td>2.31</td>\n",
       "    </tr>\n",
       "    <tr>\n",
       "      <th>2</th>\n",
       "      <td>3</td>\n",
       "      <td>0.23</td>\n",
       "      <td>Good</td>\n",
       "      <td>E</td>\n",
       "      <td>VS1</td>\n",
       "      <td>56.9</td>\n",
       "      <td>65.0</td>\n",
       "      <td>327</td>\n",
       "      <td>4.05</td>\n",
       "      <td>4.07</td>\n",
       "      <td>2.31</td>\n",
       "    </tr>\n",
       "    <tr>\n",
       "      <th>3</th>\n",
       "      <td>4</td>\n",
       "      <td>0.29</td>\n",
       "      <td>Premium</td>\n",
       "      <td>I</td>\n",
       "      <td>VS2</td>\n",
       "      <td>62.4</td>\n",
       "      <td>58.0</td>\n",
       "      <td>334</td>\n",
       "      <td>4.20</td>\n",
       "      <td>4.23</td>\n",
       "      <td>2.63</td>\n",
       "    </tr>\n",
       "    <tr>\n",
       "      <th>4</th>\n",
       "      <td>5</td>\n",
       "      <td>0.31</td>\n",
       "      <td>Good</td>\n",
       "      <td>J</td>\n",
       "      <td>SI2</td>\n",
       "      <td>63.3</td>\n",
       "      <td>58.0</td>\n",
       "      <td>335</td>\n",
       "      <td>4.34</td>\n",
       "      <td>4.35</td>\n",
       "      <td>2.75</td>\n",
       "    </tr>\n",
       "  </tbody>\n",
       "</table>\n",
       "</div>"
      ],
      "text/plain": [
       "   Unnamed: 0  carat      cut color clarity  depth  table  price     x     y  \\\n",
       "0           1   0.23    Ideal     E     SI2   61.5   55.0    326  3.95  3.98   \n",
       "1           2   0.21  Premium     E     SI1   59.8   61.0    326  3.89  3.84   \n",
       "2           3   0.23     Good     E     VS1   56.9   65.0    327  4.05  4.07   \n",
       "3           4   0.29  Premium     I     VS2   62.4   58.0    334  4.20  4.23   \n",
       "4           5   0.31     Good     J     SI2   63.3   58.0    335  4.34  4.35   \n",
       "\n",
       "      z  \n",
       "0  2.43  \n",
       "1  2.31  \n",
       "2  2.31  \n",
       "3  2.63  \n",
       "4  2.75  "
      ]
     },
     "execution_count": 4,
     "metadata": {},
     "output_type": "execute_result"
    }
   ],
   "source": [
    "data.head()"
   ]
  },
  {
   "cell_type": "markdown",
   "id": "08750c2f-ca83-4893-af3b-0556a619553f",
   "metadata": {},
   "source": [
    "### Data tail "
   ]
  },
  {
   "cell_type": "code",
   "execution_count": 5,
   "id": "ac43258e-6dcf-47d4-836a-a389948c33e3",
   "metadata": {
    "execution": {
     "iopub.execute_input": "2022-09-25T13:27:15.079876Z",
     "iopub.status.busy": "2022-09-25T13:27:15.079443Z",
     "iopub.status.idle": "2022-09-25T13:27:15.106082Z",
     "shell.execute_reply": "2022-09-25T13:27:15.104921Z",
     "shell.execute_reply.started": "2022-09-25T13:27:15.079847Z"
    },
    "tags": []
   },
   "outputs": [
    {
     "data": {
      "text/html": [
       "<div>\n",
       "<style scoped>\n",
       "    .dataframe tbody tr th:only-of-type {\n",
       "        vertical-align: middle;\n",
       "    }\n",
       "\n",
       "    .dataframe tbody tr th {\n",
       "        vertical-align: top;\n",
       "    }\n",
       "\n",
       "    .dataframe thead th {\n",
       "        text-align: right;\n",
       "    }\n",
       "</style>\n",
       "<table border=\"1\" class=\"dataframe\">\n",
       "  <thead>\n",
       "    <tr style=\"text-align: right;\">\n",
       "      <th></th>\n",
       "      <th>Unnamed: 0</th>\n",
       "      <th>carat</th>\n",
       "      <th>cut</th>\n",
       "      <th>color</th>\n",
       "      <th>clarity</th>\n",
       "      <th>depth</th>\n",
       "      <th>table</th>\n",
       "      <th>price</th>\n",
       "      <th>x</th>\n",
       "      <th>y</th>\n",
       "      <th>z</th>\n",
       "    </tr>\n",
       "  </thead>\n",
       "  <tbody>\n",
       "    <tr>\n",
       "      <th>53935</th>\n",
       "      <td>53936</td>\n",
       "      <td>0.72</td>\n",
       "      <td>Ideal</td>\n",
       "      <td>D</td>\n",
       "      <td>SI1</td>\n",
       "      <td>60.8</td>\n",
       "      <td>57.0</td>\n",
       "      <td>2757</td>\n",
       "      <td>5.75</td>\n",
       "      <td>5.76</td>\n",
       "      <td>3.50</td>\n",
       "    </tr>\n",
       "    <tr>\n",
       "      <th>53936</th>\n",
       "      <td>53937</td>\n",
       "      <td>0.72</td>\n",
       "      <td>Good</td>\n",
       "      <td>D</td>\n",
       "      <td>SI1</td>\n",
       "      <td>63.1</td>\n",
       "      <td>55.0</td>\n",
       "      <td>2757</td>\n",
       "      <td>5.69</td>\n",
       "      <td>5.75</td>\n",
       "      <td>3.61</td>\n",
       "    </tr>\n",
       "    <tr>\n",
       "      <th>53937</th>\n",
       "      <td>53938</td>\n",
       "      <td>0.70</td>\n",
       "      <td>Very Good</td>\n",
       "      <td>D</td>\n",
       "      <td>SI1</td>\n",
       "      <td>62.8</td>\n",
       "      <td>60.0</td>\n",
       "      <td>2757</td>\n",
       "      <td>5.66</td>\n",
       "      <td>5.68</td>\n",
       "      <td>3.56</td>\n",
       "    </tr>\n",
       "    <tr>\n",
       "      <th>53938</th>\n",
       "      <td>53939</td>\n",
       "      <td>0.86</td>\n",
       "      <td>Premium</td>\n",
       "      <td>H</td>\n",
       "      <td>SI2</td>\n",
       "      <td>61.0</td>\n",
       "      <td>58.0</td>\n",
       "      <td>2757</td>\n",
       "      <td>6.15</td>\n",
       "      <td>6.12</td>\n",
       "      <td>3.74</td>\n",
       "    </tr>\n",
       "    <tr>\n",
       "      <th>53939</th>\n",
       "      <td>53940</td>\n",
       "      <td>0.75</td>\n",
       "      <td>Ideal</td>\n",
       "      <td>D</td>\n",
       "      <td>SI2</td>\n",
       "      <td>62.2</td>\n",
       "      <td>55.0</td>\n",
       "      <td>2757</td>\n",
       "      <td>5.83</td>\n",
       "      <td>5.87</td>\n",
       "      <td>3.64</td>\n",
       "    </tr>\n",
       "  </tbody>\n",
       "</table>\n",
       "</div>"
      ],
      "text/plain": [
       "       Unnamed: 0  carat        cut color clarity  depth  table  price     x  \\\n",
       "53935       53936   0.72      Ideal     D     SI1   60.8   57.0   2757  5.75   \n",
       "53936       53937   0.72       Good     D     SI1   63.1   55.0   2757  5.69   \n",
       "53937       53938   0.70  Very Good     D     SI1   62.8   60.0   2757  5.66   \n",
       "53938       53939   0.86    Premium     H     SI2   61.0   58.0   2757  6.15   \n",
       "53939       53940   0.75      Ideal     D     SI2   62.2   55.0   2757  5.83   \n",
       "\n",
       "          y     z  \n",
       "53935  5.76  3.50  \n",
       "53936  5.75  3.61  \n",
       "53937  5.68  3.56  \n",
       "53938  6.12  3.74  \n",
       "53939  5.87  3.64  "
      ]
     },
     "execution_count": 5,
     "metadata": {},
     "output_type": "execute_result"
    }
   ],
   "source": [
    "data.tail()"
   ]
  },
  {
   "cell_type": "markdown",
   "id": "084fcc68-3cd6-4a29-9cb7-e959e22f3fec",
   "metadata": {},
   "source": [
    "### Data shape"
   ]
  },
  {
   "cell_type": "code",
   "execution_count": 6,
   "id": "12822823-5e5e-4aad-9f5f-3056ff1b4b87",
   "metadata": {
    "execution": {
     "iopub.execute_input": "2022-09-25T13:27:16.267953Z",
     "iopub.status.busy": "2022-09-25T13:27:16.267238Z",
     "iopub.status.idle": "2022-09-25T13:27:16.277170Z",
     "shell.execute_reply": "2022-09-25T13:27:16.276526Z",
     "shell.execute_reply.started": "2022-09-25T13:27:16.267903Z"
    },
    "tags": []
   },
   "outputs": [
    {
     "name": "stdout",
     "output_type": "stream",
     "text": [
      "data shape:  (53940, 11) → (rows|cols)\n"
     ]
    }
   ],
   "source": [
    "print(\"data shape: \", data.shape, \"→ (rows|cols)\")"
   ]
  },
  {
   "cell_type": "markdown",
   "id": "87ea808a-0e58-4197-abab-b7863b841651",
   "metadata": {},
   "source": [
    "### Data decription "
   ]
  },
  {
   "cell_type": "code",
   "execution_count": 7,
   "id": "97b71508-13d2-46ac-8ef1-567ca5b98b11",
   "metadata": {
    "execution": {
     "iopub.execute_input": "2022-09-25T13:27:17.471909Z",
     "iopub.status.busy": "2022-09-25T13:27:17.471455Z",
     "iopub.status.idle": "2022-09-25T13:27:17.523126Z",
     "shell.execute_reply": "2022-09-25T13:27:17.522727Z",
     "shell.execute_reply.started": "2022-09-25T13:27:17.471876Z"
    },
    "tags": []
   },
   "outputs": [
    {
     "data": {
      "text/html": [
       "<div>\n",
       "<style scoped>\n",
       "    .dataframe tbody tr th:only-of-type {\n",
       "        vertical-align: middle;\n",
       "    }\n",
       "\n",
       "    .dataframe tbody tr th {\n",
       "        vertical-align: top;\n",
       "    }\n",
       "\n",
       "    .dataframe thead th {\n",
       "        text-align: right;\n",
       "    }\n",
       "</style>\n",
       "<table border=\"1\" class=\"dataframe\">\n",
       "  <thead>\n",
       "    <tr style=\"text-align: right;\">\n",
       "      <th></th>\n",
       "      <th>Unnamed: 0</th>\n",
       "      <th>carat</th>\n",
       "      <th>depth</th>\n",
       "      <th>table</th>\n",
       "      <th>price</th>\n",
       "      <th>x</th>\n",
       "      <th>y</th>\n",
       "      <th>z</th>\n",
       "    </tr>\n",
       "  </thead>\n",
       "  <tbody>\n",
       "    <tr>\n",
       "      <th>count</th>\n",
       "      <td>53940.000000</td>\n",
       "      <td>53940.000000</td>\n",
       "      <td>53940.000000</td>\n",
       "      <td>53940.000000</td>\n",
       "      <td>53940.000000</td>\n",
       "      <td>53940.000000</td>\n",
       "      <td>53940.000000</td>\n",
       "      <td>53940.000000</td>\n",
       "    </tr>\n",
       "    <tr>\n",
       "      <th>mean</th>\n",
       "      <td>26970.500000</td>\n",
       "      <td>0.797940</td>\n",
       "      <td>61.749405</td>\n",
       "      <td>57.457184</td>\n",
       "      <td>3932.799722</td>\n",
       "      <td>5.731157</td>\n",
       "      <td>5.734526</td>\n",
       "      <td>3.538734</td>\n",
       "    </tr>\n",
       "    <tr>\n",
       "      <th>std</th>\n",
       "      <td>15571.281097</td>\n",
       "      <td>0.474011</td>\n",
       "      <td>1.432621</td>\n",
       "      <td>2.234491</td>\n",
       "      <td>3989.439738</td>\n",
       "      <td>1.121761</td>\n",
       "      <td>1.142135</td>\n",
       "      <td>0.705699</td>\n",
       "    </tr>\n",
       "    <tr>\n",
       "      <th>min</th>\n",
       "      <td>1.000000</td>\n",
       "      <td>0.200000</td>\n",
       "      <td>43.000000</td>\n",
       "      <td>43.000000</td>\n",
       "      <td>326.000000</td>\n",
       "      <td>0.000000</td>\n",
       "      <td>0.000000</td>\n",
       "      <td>0.000000</td>\n",
       "    </tr>\n",
       "    <tr>\n",
       "      <th>25%</th>\n",
       "      <td>13485.750000</td>\n",
       "      <td>0.400000</td>\n",
       "      <td>61.000000</td>\n",
       "      <td>56.000000</td>\n",
       "      <td>950.000000</td>\n",
       "      <td>4.710000</td>\n",
       "      <td>4.720000</td>\n",
       "      <td>2.910000</td>\n",
       "    </tr>\n",
       "    <tr>\n",
       "      <th>50%</th>\n",
       "      <td>26970.500000</td>\n",
       "      <td>0.700000</td>\n",
       "      <td>61.800000</td>\n",
       "      <td>57.000000</td>\n",
       "      <td>2401.000000</td>\n",
       "      <td>5.700000</td>\n",
       "      <td>5.710000</td>\n",
       "      <td>3.530000</td>\n",
       "    </tr>\n",
       "    <tr>\n",
       "      <th>75%</th>\n",
       "      <td>40455.250000</td>\n",
       "      <td>1.040000</td>\n",
       "      <td>62.500000</td>\n",
       "      <td>59.000000</td>\n",
       "      <td>5324.250000</td>\n",
       "      <td>6.540000</td>\n",
       "      <td>6.540000</td>\n",
       "      <td>4.040000</td>\n",
       "    </tr>\n",
       "    <tr>\n",
       "      <th>max</th>\n",
       "      <td>53940.000000</td>\n",
       "      <td>5.010000</td>\n",
       "      <td>79.000000</td>\n",
       "      <td>95.000000</td>\n",
       "      <td>18823.000000</td>\n",
       "      <td>10.740000</td>\n",
       "      <td>58.900000</td>\n",
       "      <td>31.800000</td>\n",
       "    </tr>\n",
       "  </tbody>\n",
       "</table>\n",
       "</div>"
      ],
      "text/plain": [
       "         Unnamed: 0         carat         depth         table         price  \\\n",
       "count  53940.000000  53940.000000  53940.000000  53940.000000  53940.000000   \n",
       "mean   26970.500000      0.797940     61.749405     57.457184   3932.799722   \n",
       "std    15571.281097      0.474011      1.432621      2.234491   3989.439738   \n",
       "min        1.000000      0.200000     43.000000     43.000000    326.000000   \n",
       "25%    13485.750000      0.400000     61.000000     56.000000    950.000000   \n",
       "50%    26970.500000      0.700000     61.800000     57.000000   2401.000000   \n",
       "75%    40455.250000      1.040000     62.500000     59.000000   5324.250000   \n",
       "max    53940.000000      5.010000     79.000000     95.000000  18823.000000   \n",
       "\n",
       "                  x             y             z  \n",
       "count  53940.000000  53940.000000  53940.000000  \n",
       "mean       5.731157      5.734526      3.538734  \n",
       "std        1.121761      1.142135      0.705699  \n",
       "min        0.000000      0.000000      0.000000  \n",
       "25%        4.710000      4.720000      2.910000  \n",
       "50%        5.700000      5.710000      3.530000  \n",
       "75%        6.540000      6.540000      4.040000  \n",
       "max       10.740000     58.900000     31.800000  "
      ]
     },
     "execution_count": 7,
     "metadata": {},
     "output_type": "execute_result"
    }
   ],
   "source": [
    "data.describe()"
   ]
  },
  {
   "cell_type": "markdown",
   "id": "41a9c266-fcb4-466b-b1eb-f13fd4416845",
   "metadata": {},
   "source": [
    "### Data information"
   ]
  },
  {
   "cell_type": "code",
   "execution_count": 8,
   "id": "8b1e2d80-f51b-4b36-b576-525464db5a95",
   "metadata": {
    "execution": {
     "iopub.execute_input": "2022-09-25T13:27:18.945737Z",
     "iopub.status.busy": "2022-09-25T13:27:18.944627Z",
     "iopub.status.idle": "2022-09-25T13:27:18.998699Z",
     "shell.execute_reply": "2022-09-25T13:27:18.998253Z",
     "shell.execute_reply.started": "2022-09-25T13:27:18.945670Z"
    },
    "tags": []
   },
   "outputs": [
    {
     "name": "stdout",
     "output_type": "stream",
     "text": [
      "<class 'pandas.core.frame.DataFrame'>\n",
      "RangeIndex: 53940 entries, 0 to 53939\n",
      "Data columns (total 11 columns):\n",
      " #   Column      Non-Null Count  Dtype  \n",
      "---  ------      --------------  -----  \n",
      " 0   Unnamed: 0  53940 non-null  int64  \n",
      " 1   carat       53940 non-null  float64\n",
      " 2   cut         53940 non-null  object \n",
      " 3   color       53940 non-null  object \n",
      " 4   clarity     53940 non-null  object \n",
      " 5   depth       53940 non-null  float64\n",
      " 6   table       53940 non-null  float64\n",
      " 7   price       53940 non-null  int64  \n",
      " 8   x           53940 non-null  float64\n",
      " 9   y           53940 non-null  float64\n",
      " 10  z           53940 non-null  float64\n",
      "dtypes: float64(6), int64(2), object(3)\n",
      "memory usage: 4.5+ MB\n"
     ]
    }
   ],
   "source": [
    "data.info()"
   ]
  },
  {
   "cell_type": "code",
   "execution_count": 9,
   "id": "a02a5aca-3d8d-44c0-8b84-d4a26339f085",
   "metadata": {
    "execution": {
     "iopub.execute_input": "2022-09-25T13:27:19.528130Z",
     "iopub.status.busy": "2022-09-25T13:27:19.527408Z",
     "iopub.status.idle": "2022-09-25T13:27:19.559552Z",
     "shell.execute_reply": "2022-09-25T13:27:19.559078Z",
     "shell.execute_reply.started": "2022-09-25T13:27:19.528081Z"
    },
    "tags": []
   },
   "outputs": [
    {
     "name": "stdout",
     "output_type": "stream",
     "text": [
      "\n",
      "Categorical feature:  cut\n",
      " \n",
      "Ideal        21551\n",
      "Premium      13791\n",
      "Very Good    12082\n",
      "Good          4906\n",
      "Fair          1610\n",
      "Name: cut, dtype: int64\n",
      "\n",
      "Categorical feature:  color\n",
      " \n",
      "G    11292\n",
      "E     9797\n",
      "F     9542\n",
      "H     8304\n",
      "D     6775\n",
      "I     5422\n",
      "J     2808\n",
      "Name: color, dtype: int64\n",
      "\n",
      "Categorical feature:  clarity\n",
      " \n",
      "SI1     13065\n",
      "VS2     12258\n",
      "SI2      9194\n",
      "VS1      8171\n",
      "VVS2     5066\n",
      "VVS1     3655\n",
      "IF       1790\n",
      "I1        741\n",
      "Name: clarity, dtype: int64\n"
     ]
    }
   ],
   "source": [
    "EDA().cat_value_counts(data)"
   ]
  },
  {
   "cell_type": "markdown",
   "id": "d031340c-ebc7-408d-8a83-ab693e2179df",
   "metadata": {
    "tags": []
   },
   "source": [
    "### Check duplicated/null/na data"
   ]
  },
  {
   "cell_type": "code",
   "execution_count": 11,
   "id": "cdc66653-4b7c-4070-8a34-d5082308fd1a",
   "metadata": {
    "execution": {
     "iopub.execute_input": "2022-09-25T09:24:25.607491Z",
     "iopub.status.busy": "2022-09-25T09:24:25.606731Z",
     "iopub.status.idle": "2022-09-25T09:24:25.646589Z",
     "shell.execute_reply": "2022-09-25T09:24:25.646154Z",
     "shell.execute_reply.started": "2022-09-25T09:24:25.607437Z"
    }
   },
   "outputs": [
    {
     "data": {
      "text/plain": [
       "0"
      ]
     },
     "execution_count": 11,
     "metadata": {},
     "output_type": "execute_result"
    }
   ],
   "source": [
    "data.duplicated().sum()"
   ]
  },
  {
   "cell_type": "code",
   "execution_count": 49,
   "id": "286e5fff-2a2d-4ad3-8884-e1cf2e73a67b",
   "metadata": {
    "execution": {
     "iopub.execute_input": "2022-09-25T09:58:48.160893Z",
     "iopub.status.busy": "2022-09-25T09:58:48.160011Z",
     "iopub.status.idle": "2022-09-25T09:58:48.207756Z",
     "shell.execute_reply": "2022-09-25T09:58:48.207326Z",
     "shell.execute_reply.started": "2022-09-25T09:58:48.160783Z"
    }
   },
   "outputs": [
    {
     "data": {
      "text/plain": [
       "Unnamed: 0    0\n",
       "carat         0\n",
       "cut           0\n",
       "color         0\n",
       "clarity       0\n",
       "depth         0\n",
       "table         0\n",
       "price         0\n",
       "x             0\n",
       "y             0\n",
       "z             0\n",
       "dtype: int64"
      ]
     },
     "execution_count": 49,
     "metadata": {},
     "output_type": "execute_result"
    }
   ],
   "source": [
    "data.isnull().sum()"
   ]
  },
  {
   "cell_type": "code",
   "execution_count": 50,
   "id": "241b3dad-11c7-4951-990c-0114f46e66a9",
   "metadata": {
    "execution": {
     "iopub.execute_input": "2022-09-25T09:58:57.328647Z",
     "iopub.status.busy": "2022-09-25T09:58:57.328463Z",
     "iopub.status.idle": "2022-09-25T09:58:57.344196Z",
     "shell.execute_reply": "2022-09-25T09:58:57.343778Z",
     "shell.execute_reply.started": "2022-09-25T09:58:57.328633Z"
    }
   },
   "outputs": [
    {
     "data": {
      "text/plain": [
       "Unnamed: 0    0\n",
       "carat         0\n",
       "cut           0\n",
       "color         0\n",
       "clarity       0\n",
       "depth         0\n",
       "table         0\n",
       "price         0\n",
       "x             0\n",
       "y             0\n",
       "z             0\n",
       "dtype: int64"
      ]
     },
     "execution_count": 50,
     "metadata": {},
     "output_type": "execute_result"
    }
   ],
   "source": [
    "data.isna().sum()"
   ]
  },
  {
   "cell_type": "code",
   "execution_count": 35,
   "id": "1560b321-0eba-4fcf-a517-096ed290051e",
   "metadata": {
    "execution": {
     "iopub.execute_input": "2022-09-25T13:47:55.944159Z",
     "iopub.status.busy": "2022-09-25T13:47:55.943376Z",
     "iopub.status.idle": "2022-09-25T13:47:58.197268Z",
     "shell.execute_reply": "2022-09-25T13:47:58.196752Z",
     "shell.execute_reply.started": "2022-09-25T13:47:55.944104Z"
    },
    "tags": []
   },
   "outputs": [
    {
     "data": {
      "image/png": "[encoded data removed]",
      "text/plain": [
       "<Figure size 500x500 with 1 Axes>"
      ]
     },
     "metadata": {},
     "output_type": "display_data"
    },
    {
     "data": {
      "image/png": "[encoded data removed]",
      "text/plain": [
       "<Figure size 500x500 with 1 Axes>"
      ]
     },
     "metadata": {},
     "output_type": "display_data"
    },
    {
     "data": {
      "image/png": "[encoded data removed]",
      "text/plain": [
       "<Figure size 500x500 with 1 Axes>"
      ]
     },
     "metadata": {},
     "output_type": "display_data"
    },
    {
     "data": {
      "image/png": "[encoded data removed]",
      "text/plain": [
       "<Figure size 500x500 with 1 Axes>"
      ]
     },
     "metadata": {},
     "output_type": "display_data"
    },
    {
     "data": {
      "image/png": "[encoded data removed]",
      "text/plain": [
       "<Figure size 500x500 with 1 Axes>"
      ]
     },
     "metadata": {},
     "output_type": "display_data"
    },
    {
     "data": {
      "image/png": "[encoded data removed]",
      "text/plain": [
       "<Figure size 500x500 with 1 Axes>"
      ]
     },
     "metadata": {},
     "output_type": "display_data"
    },
    {
     "data": {
      "image/png": "[encoded data removed]",
      "text/plain": [
       "<Figure size 500x500 with 1 Axes>"
      ]
     },
     "metadata": {},
     "output_type": "display_data"
    },
    {
     "data": {
      "image/png": "[encoded data removed]",
      "text/plain": [
       "<Figure size 500x500 with 1 Axes>"
      ]
     },
     "metadata": {},
     "output_type": "display_data"
    },
    {
     "data": {
      "image/png": "[encoded data removed]",
      "text/plain": [
       "<Figure size 500x500 with 1 Axes>"
      ]
     },
     "metadata": {},
     "output_type": "display_data"
    },
    {
     "data": {
      "image/png": "[encoded data removed]",
      "text/plain": [
       "<Figure size 500x500 with 1 Axes>"
      ]
     },
     "metadata": {},
     "output_type": "display_data"
    }
   ],
   "source": [
    "for f in list(data)[1:]:\n",
    "    sns.displot(data, x=f)"
   ]
  },
  {
   "cell_type": "code",
   "execution_count": 37,
   "id": "3576ed3c-cdb5-4613-890a-e586bdaaac92",
   "metadata": {
    "execution": {
     "iopub.execute_input": "2022-09-25T13:49:54.528761Z",
     "iopub.status.busy": "2022-09-25T13:49:54.527991Z",
     "iopub.status.idle": "2022-09-25T13:49:54.544350Z",
     "shell.execute_reply": "2022-09-25T13:49:54.543439Z",
     "shell.execute_reply.started": "2022-09-25T13:49:54.528709Z"
    },
    "tags": []
   },
   "outputs": [
    {
     "data": {
      "text/plain": [
       "skew         1.522423\n",
       "kurtosis    47.086619\n",
       "Name: z, dtype: float64"
      ]
     },
     "execution_count": 37,
     "metadata": {},
     "output_type": "execute_result"
    }
   ],
   "source": [
    "data['z'].agg(['skew', 'kurtosis'])"
   ]
  },
  {
   "cell_type": "code",
   "execution_count": null,
   "id": "97b61ea8-9747-441d-b7ce-6eadb6f130df",
   "metadata": {},
   "outputs": [],
   "source": []
  }
 ],
 "metadata": {
  "kernelspec": {
   "display_name": "Data Science",
   "language": "python",
   "name": "ds"
  },
  "language_info": {
   "codemirror_mode": {
    "name": "ipython",
    "version": 3
   },
   "file_extension": ".py",
   "mimetype": "text/x-python",
   "name": "python",
   "nbconvert_exporter": "python",
   "pygments_lexer": "ipython3",
   "version": "3.9.13"
  }
 },
 "nbformat": 4,
 "nbformat_minor": 5
}
