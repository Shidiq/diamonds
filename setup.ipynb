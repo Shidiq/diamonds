{
 "cells": [
  {
   "cell_type": "code",
   "execution_count": 1,
   "id": "adb5e773-23ad-4a83-9604-597b115a1c17",
   "metadata": {
    "execution": {
     "iopub.execute_input": "2022-09-25T08:49:47.823938Z",
     "iopub.status.busy": "2022-09-25T08:49:47.823105Z",
     "iopub.status.idle": "2022-09-25T08:49:47.983048Z",
     "shell.execute_reply": "2022-09-25T08:49:47.981182Z",
     "shell.execute_reply.started": "2022-09-25T08:49:47.823792Z"
    },
    "tags": []
   },
   "outputs": [
    {
     "name": "stdout",
     "output_type": "stream",
     "text": [
      "\u001b[33mhint: Using 'master' as the name for the initial branch. This default branch name\u001b[m\n",
      "\u001b[33mhint: is subject to change. To configure the initial branch name to use in all\u001b[m\n",
      "\u001b[33mhint: of your new repositories, which will suppress this warning, call:\u001b[m\n",
      "\u001b[33mhint: \u001b[m\n",
      "\u001b[33mhint: \tgit config --global init.defaultBranch <name>\u001b[m\n",
      "\u001b[33mhint: \u001b[m\n",
      "\u001b[33mhint: Names commonly chosen instead of 'master' are 'main', 'trunk' and\u001b[m\n",
      "\u001b[33mhint: 'development'. The just-created branch can be renamed via this command:\u001b[m\n",
      "\u001b[33mhint: \u001b[m\n",
      "\u001b[33mhint: \tgit branch -m <name>\u001b[m\n",
      "Initialized empty Git repository in /Users/shidiq/Developer/Portofolio/diamonds/.git/\n"
     ]
    }
   ],
   "source": [
    "!git init"
   ]
  },
  {
   "cell_type": "code",
   "execution_count": 2,
   "id": "dab9981f-bde3-4211-bf50-4651329abbac",
   "metadata": {
    "execution": {
     "iopub.execute_input": "2022-09-25T08:50:58.262916Z",
     "iopub.status.busy": "2022-09-25T08:50:58.262446Z",
     "iopub.status.idle": "2022-09-25T08:50:58.769725Z",
     "shell.execute_reply": "2022-09-25T08:50:58.769281Z",
     "shell.execute_reply.started": "2022-09-25T08:50:58.262875Z"
    }
   },
   "outputs": [
    {
     "name": "stdout",
     "output_type": "stream",
     "text": [
      "Initialized DVC repository.\n",
      "\n",
      "You can now commit the changes to git.\n",
      "\n",
      "\u001b[31m+---------------------------------------------------------------------+\n",
      "\u001b[0m\u001b[31m|\u001b[0m                                                                     \u001b[31m|\u001b[0m\n",
      "\u001b[31m|\u001b[0m        DVC has enabled anonymous aggregate usage analytics.         \u001b[31m|\u001b[0m\n",
      "\u001b[31m|\u001b[0m     Read the analytics documentation (and how to opt-out) here:     \u001b[31m|\u001b[0m\n",
      "\u001b[31m|\u001b[0m             <\u001b[36mhttps://dvc.org/doc/user-guide/analytics\u001b[39m>              \u001b[31m|\u001b[0m\n",
      "\u001b[31m|\u001b[0m                                                                     \u001b[31m|\u001b[0m\n",
      "\u001b[31m+---------------------------------------------------------------------+\n",
      "\u001b[0m\n",
      "\u001b[33mWhat's next?\u001b[39m\n",
      "\u001b[33m------------\u001b[39m\n",
      "- Check out the documentation: <\u001b[36mhttps://dvc.org/doc\u001b[39m>\n",
      "- Get help and share ideas: <\u001b[36mhttps://dvc.org/chat\u001b[39m>\n",
      "- Star us on GitHub: <\u001b[36mhttps://github.com/iterative/dvc\u001b[39m>\n",
      "\u001b[0m"
     ]
    }
   ],
   "source": [
    "!dvc init"
   ]
  },
  {
   "cell_type": "code",
   "execution_count": 4,
   "id": "c205ed62-e042-4550-9fe8-e539a3f8e2e0",
   "metadata": {
    "execution": {
     "iopub.execute_input": "2022-09-25T08:51:45.797697Z",
     "iopub.status.busy": "2022-09-25T08:51:45.797255Z",
     "iopub.status.idle": "2022-09-25T08:51:45.961158Z",
     "shell.execute_reply": "2022-09-25T08:51:45.959010Z",
     "shell.execute_reply.started": "2022-09-25T08:51:45.797671Z"
    },
    "tags": []
   },
   "outputs": [],
   "source": [
    "!git add ."
   ]
  },
  {
   "cell_type": "code",
   "execution_count": 5,
   "id": "c6ef871d-520c-4835-9ace-7e731a1cb547",
   "metadata": {
    "execution": {
     "iopub.execute_input": "2022-09-25T08:52:09.635623Z",
     "iopub.status.busy": "2022-09-25T08:52:09.634886Z",
     "iopub.status.idle": "2022-09-25T08:52:09.802409Z",
     "shell.execute_reply": "2022-09-25T08:52:09.801739Z",
     "shell.execute_reply.started": "2022-09-25T08:52:09.635580Z"
    }
   },
   "outputs": [
    {
     "name": "stdout",
     "output_type": "stream",
     "text": [
      "[master (root-commit) a49456f] initialize repo\n",
      " 10 files changed, 506 insertions(+)\n",
      " create mode 100644 .DS_Store\n",
      " create mode 100644 .dvc/.gitignore\n",
      " create mode 100644 .dvc/config\n",
      " create mode 100644 .dvcignore\n",
      " create mode 100644 .gitignore\n",
      " create mode 100644 .virtual_documents/init_data.ipynb\n",
      " create mode 100644 .virtual_documents/setup.ipynb\n",
      " create mode 100644 LICENSE\n",
      " create mode 100644 README.md\n",
      " create mode 100644 setup.ipynb\n"
     ]
    }
   ],
   "source": [
    "!git commit -m \"initialize repo\""
   ]
  },
  {
   "cell_type": "code",
   "execution_count": 6,
   "id": "f69109f5-f50f-43d2-875e-d0076f48fa4b",
   "metadata": {
    "execution": {
     "iopub.execute_input": "2022-09-25T08:52:33.644126Z",
     "iopub.status.busy": "2022-09-25T08:52:33.643698Z",
     "iopub.status.idle": "2022-09-25T08:52:33.797682Z",
     "shell.execute_reply": "2022-09-25T08:52:33.796945Z",
     "shell.execute_reply.started": "2022-09-25T08:52:33.644101Z"
    }
   },
   "outputs": [],
   "source": [
    "!git branch -M main"
   ]
  },
  {
   "cell_type": "code",
   "execution_count": 7,
   "id": "1058c753-41c5-4a7f-a806-39c32df4e08a",
   "metadata": {
    "execution": {
     "iopub.execute_input": "2022-09-25T08:52:48.962349Z",
     "iopub.status.busy": "2022-09-25T08:52:48.961914Z",
     "iopub.status.idle": "2022-09-25T08:52:49.113311Z",
     "shell.execute_reply": "2022-09-25T08:52:49.110885Z",
     "shell.execute_reply.started": "2022-09-25T08:52:48.962323Z"
    }
   },
   "outputs": [],
   "source": [
    "!git remote add origin https://github.com/Shidiq/diamonds.git"
   ]
  },
  {
   "cell_type": "code",
   "execution_count": 8,
   "id": "22db87d9-d574-449b-9afb-d91523af22f1",
   "metadata": {
    "execution": {
     "iopub.execute_input": "2022-09-25T08:52:58.905129Z",
     "iopub.status.busy": "2022-09-25T08:52:58.904665Z",
     "iopub.status.idle": "2022-09-25T08:53:00.930979Z",
     "shell.execute_reply": "2022-09-25T08:53:00.929027Z",
     "shell.execute_reply.started": "2022-09-25T08:52:58.905098Z"
    }
   },
   "outputs": [
    {
     "name": "stdout",
     "output_type": "stream",
     "text": [
      "Enumerating objects: 14, done.\n",
      "Counting objects: 100% (14/14), done.\n",
      "Delta compression using up to 8 threads\n",
      "Compressing objects: 100% (12/12), done.\n",
      "Writing objects: 100% (14/14), 7.93 KiB | 7.93 MiB/s, done.\n",
      "Total 14 (delta 0), reused 0 (delta 0), pack-reused 0\n",
      "To https://github.com/Shidiq/diamonds.git\n",
      " * [new branch]      main -> main\n",
      "branch 'main' set up to track 'origin/main'.\n"
     ]
    }
   ],
   "source": [
    "!git push -u origin main"
   ]
  },
  {
   "cell_type": "code",
   "execution_count": 10,
   "id": "c7e251de-75a2-4314-937e-abe1b309c595",
   "metadata": {
    "execution": {
     "iopub.execute_input": "2022-09-25T08:55:08.243342Z",
     "iopub.status.busy": "2022-09-25T08:55:08.242562Z",
     "iopub.status.idle": "2022-09-25T08:55:08.641369Z",
     "shell.execute_reply": "2022-09-25T08:55:08.640926Z",
     "shell.execute_reply.started": "2022-09-25T08:55:08.243292Z"
    },
    "tags": []
   },
   "outputs": [
    {
     "name": "stdout",
     "output_type": "stream",
     "text": [
      "Setting 'dvc-remote' as a default remote.\n",
      "\u001b[0m"
     ]
    }
   ],
   "source": [
    "!dvc remote add -d dvc-remote \"/Volumes/99% Virus/dvc_temp\""
   ]
  },
  {
   "cell_type": "code",
   "execution_count": 11,
   "id": "d3c0a45a-1abb-49d2-bd1a-278ec2a3b981",
   "metadata": {
    "execution": {
     "iopub.execute_input": "2022-09-25T08:55:20.884829Z",
     "iopub.status.busy": "2022-09-25T08:55:20.884399Z",
     "iopub.status.idle": "2022-09-25T08:55:21.035460Z",
     "shell.execute_reply": "2022-09-25T08:55:21.034695Z",
     "shell.execute_reply.started": "2022-09-25T08:55:20.884803Z"
    }
   },
   "outputs": [
    {
     "name": "stdout",
     "output_type": "stream",
     "text": [
      "On branch main\n",
      "Your branch is up to date with 'origin/main'.\n",
      "\n",
      "Changes not staged for commit:\n",
      "  (use \"git add <file>...\" to update what will be committed)\n",
      "  (use \"git restore <file>...\" to discard changes in working directory)\n",
      "\t\u001b[31mmodified:   .dvc/config\u001b[m\n",
      "\t\u001b[31mmodified:   .virtual_documents/setup.ipynb\u001b[m\n",
      "\t\u001b[31mmodified:   README.md\u001b[m\n",
      "\t\u001b[31mmodified:   setup.ipynb\u001b[m\n",
      "\n",
      "no changes added to commit (use \"git add\" and/or \"git commit -a\")\n"
     ]
    }
   ],
   "source": [
    "!git add ."
   ]
  },
  {
   "cell_type": "code",
   "execution_count": null,
   "id": "ecca0aee-9820-4263-8650-2fa51656a9d6",
   "metadata": {},
   "outputs": [],
   "source": []
  }
 ],
 "metadata": {
  "kernelspec": {
   "display_name": "Data Science",
   "language": "python",
   "name": "ds"
  },
  "language_info": {
   "codemirror_mode": {
    "name": "ipython",
    "version": 3
   },
   "file_extension": ".py",
   "mimetype": "text/x-python",
   "name": "python",
   "nbconvert_exporter": "python",
   "pygments_lexer": "ipython3",
   "version": "3.9.13"
  }
 },
 "nbformat": 4,
 "nbformat_minor": 5
}
